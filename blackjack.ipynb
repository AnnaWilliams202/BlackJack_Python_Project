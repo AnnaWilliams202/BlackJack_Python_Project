{
 "cells": [
  {
   "cell_type": "code",
   "execution_count": 122,
   "id": "048c9e91-32d2-4528-905d-6b4c0ba6fce0",
   "metadata": {},
   "outputs": [],
   "source": [
    "\n",
    "import random"
   ]
  },
  {
   "cell_type": "code",
   "execution_count": 124,
   "id": "9bcc5f67-0c39-43d0-a6e2-73150a889d48",
   "metadata": {},
   "outputs": [],
   "source": [
    "suits = ('Hearts', 'Diamonds', 'Spades', 'Clubs')#tuple\n",
    "ranks = ('Two', 'Three', 'Four', 'Five', 'Six', 'Seven', 'Eight', 'Nine', 'Ten', 'Jack', 'Queen', 'King', 'Ace')\n",
    "values = {'Two':2, 'Three':3, 'Four':4, 'Five':5, 'Six':6, 'Seven':7, 'Eight':8, 'Nine':9, 'Ten':10, 'Jack':10,\n",
    "         'Queen':10, 'King':10, 'Ace':11}#dictionary"
   ]
  },
  {
   "cell_type": "code",
   "execution_count": 126,
   "id": "8ea11675-96d1-463c-a2a4-c84db2947432",
   "metadata": {},
   "outputs": [],
   "source": [
    "playing = True"
   ]
  },
  {
   "cell_type": "code",
   "execution_count": 128,
   "id": "7c324c93-0e37-41f2-80a6-363bf9445fd4",
   "metadata": {},
   "outputs": [],
   "source": [
    "class Card:\n",
    "\n",
    "    def __init__(self,suit,rank):\n",
    "        self.suit = suit\n",
    "        self.rank = rank\n",
    "        \n",
    "    def __str__(self):\n",
    "        return self.rank + ' of ' + self.suit"
   ]
  },
  {
   "cell_type": "code",
   "execution_count": 130,
   "id": "7c6eb49f-ce20-4830-aaaf-8a9e5721af72",
   "metadata": {},
   "outputs": [],
   "source": [
    "class Deck:\n",
    "    \n",
    "    def __init__(self):\n",
    "        self.deck = []  # start with an empty list\n",
    "        for suit in suits:\n",
    "            for rank in ranks:\n",
    "                self.deck.append(Card(suit,rank))  # build Card objects and add them to the list\n",
    "    \n",
    "    def __str__(self):\n",
    "        deck_comp = ''  # start with an empty string\n",
    "        for card in self.deck:\n",
    "            deck_comp += '\\n '+card.__str__() # add each Card object's print string\n",
    "        return ' The deck has:' + deck_comp\n",
    "\n",
    "    def shuffle(self):\n",
    "        random.shuffle(self.deck)\n",
    "        \n",
    "    def deal(self):\n",
    "        single_card = self.deck.pop()\n",
    "        return single_card"
   ]
  },
  {
   "cell_type": "code",
   "execution_count": 132,
   "id": "c5d053bf-63ec-4823-838c-a69bd8eea0c8",
   "metadata": {},
   "outputs": [
    {
     "name": "stdout",
     "output_type": "stream",
     "text": [
      " The deck has:\n",
      " Eight of Spades\n",
      " Seven of Clubs\n",
      " Two of Hearts\n",
      " Ace of Diamonds\n",
      " Queen of Diamonds\n",
      " Six of Hearts\n",
      " Jack of Spades\n",
      " Three of Clubs\n",
      " King of Spades\n",
      " Seven of Spades\n",
      " Ace of Hearts\n",
      " Two of Spades\n",
      " Six of Diamonds\n",
      " Three of Diamonds\n",
      " Six of Clubs\n",
      " Queen of Clubs\n",
      " Six of Spades\n",
      " Three of Spades\n",
      " Four of Diamonds\n",
      " Eight of Clubs\n",
      " Jack of Hearts\n",
      " Nine of Diamonds\n",
      " King of Hearts\n",
      " Five of Diamonds\n",
      " Eight of Hearts\n",
      " Ten of Hearts\n",
      " Ace of Clubs\n",
      " King of Diamonds\n",
      " Ace of Spades\n",
      " Queen of Spades\n",
      " Seven of Diamonds\n",
      " King of Clubs\n",
      " Eight of Diamonds\n",
      " Two of Diamonds\n",
      " Nine of Spades\n",
      " Nine of Clubs\n",
      " Two of Clubs\n",
      " Five of Spades\n",
      " Four of Hearts\n",
      " Five of Clubs\n",
      " Five of Hearts\n",
      " Ten of Clubs\n",
      " Ten of Diamonds\n",
      " Four of Clubs\n",
      " Nine of Hearts\n",
      " Four of Spades\n",
      " Jack of Clubs\n",
      " Three of Hearts\n",
      " Jack of Diamonds\n",
      " Queen of Hearts\n",
      " Seven of Hearts\n",
      " Ten of Spades\n"
     ]
    }
   ],
   "source": [
    "test_deck = Deck()\n",
    "test_deck.shuffle()\n",
    "print(test_deck)"
   ]
  },
  {
   "cell_type": "code",
   "execution_count": 134,
   "id": "b608730b-f492-47dc-aece-5f0fa99360db",
   "metadata": {},
   "outputs": [],
   "source": [
    "class Hand:\n",
    "    def __init__(self):\n",
    "        self.cards = []  # start with an empty list as we did in the Deck class\n",
    "        self.value = 0   # start with zero value\n",
    "        self.aces = 0    # add an attribute to keep track of aces\n",
    "    \n",
    "    def add_card(self,card):\n",
    "        #card passed in is single card obj from deck (deal)\n",
    "        self.cards.append(card)\n",
    "        self.value += values[card.rank]\n",
    "\n",
    "        #track aces \n",
    "        if card.rank =='Ace':\n",
    "            self.aces +=1\n",
    "    \n",
    "    def adjust_for_ace(self):\n",
    "\n",
    "        #if total val>21 and i still have ace then change ace to 1 not 11 \n",
    "        while self.value > 21 and self.aces:\n",
    "            self.value -= 10\n",
    "            self.aces -= 1"
   ]
  },
  {
   "cell_type": "code",
   "execution_count": 136,
   "id": "d083cb96-cb8f-4379-b539-aa101d466364",
   "metadata": {},
   "outputs": [],
   "source": [
    "class Chips:\n",
    "    \n",
    "    def __init__(self):\n",
    "        self.total = 100  # This can be set to a default value or supplied by a user input\n",
    "        self.bet = 0\n",
    "        \n",
    "    def win_bet(self):\n",
    "        self.total + self.bet\n",
    "    \n",
    "    def lose_bet(self):\n",
    "        self.total - self.bet"
   ]
  },
  {
   "cell_type": "code",
   "execution_count": 138,
   "id": "a2a993e1-31d1-4332-bbfc-8be0d2d89422",
   "metadata": {},
   "outputs": [],
   "source": [
    "def take_bet(chips):\n",
    "    while True:\n",
    "        \n",
    "        try:\n",
    "            chips.bet = int(input('How many chips would you like to bet? '))\n",
    "        except:\n",
    "            print('Please provide an integer!')\n",
    "        else:\n",
    "            if chips.bet > chips.total:\n",
    "                print('Sorry you do not have enough chips! You have: {}'.format(chips.total))\n",
    "            else:\n",
    "                break\n",
    "            \n",
    "        "
   ]
  },
  {
   "cell_type": "code",
   "execution_count": 140,
   "id": "06190f83-99f3-4a6a-b353-8a042fae8214",
   "metadata": {},
   "outputs": [],
   "source": [
    "def hit(deck,hand):\n",
    "    single_card = deck.deal()\n",
    "    hand.add_card(single_card)\n",
    "    hand.adjust_for_ace()"
   ]
  },
  {
   "cell_type": "code",
   "execution_count": 142,
   "id": "1ccd8a52-a63e-486d-8b0d-2dd62c659a56",
   "metadata": {},
   "outputs": [],
   "source": [
    "def hit_or_stand(deck,hand):\n",
    "    global playing  # to control an upcoming while loop\n",
    "    \n",
    "    while True:\n",
    "        x = input(\"Would you like to Hit or Stand? Enter 'h' or 's' \")\n",
    "        \n",
    "        if x[0].lower() == 'h':\n",
    "            hit(deck,hand)  # hit() function defined above\n",
    "\n",
    "        elif x[0].lower() == 's':\n",
    "            print(\"Player stands. Dealer is playing.\")\n",
    "            playing = False\n",
    "\n",
    "        else:\n",
    "            print(\"Sorry, please try again.\")\n",
    "            continue\n",
    "        break"
   ]
  },
  {
   "cell_type": "code",
   "execution_count": 144,
   "id": "e46ac864-9982-46fe-adb8-47e32313a31e",
   "metadata": {},
   "outputs": [],
   "source": [
    "def show_some(player,dealer):\n",
    "    #show only one dealers card\n",
    "    print('\\n Dealers hand: ')\n",
    "    print('First card hidden')\n",
    "    print(dealer.cards[1])\n",
    "\n",
    "    #show players cards \n",
    "    print('\\n Players hand: ')\n",
    "    for card in player.cards:\n",
    "          print(card)\n",
    "\n",
    "          \n",
    "    \n",
    "def show_all(player,dealer):\n",
    "    #show all dealers cards \n",
    "    \n",
    "     #show players cards \n",
    "    print('\\n Dealers hand: ' )\n",
    "    for card in dealer.cards:\n",
    "          print(card)\n",
    "    # calculate and display value\n",
    "    print(f'Value of Dealers hand is: {dealer.value}')\n",
    "     #show players cards \n",
    "    print('\\n Players hand: ' )\n",
    "    for card in player.cards:\n",
    "          print(card)\n",
    "    print(f'Value of Players hand is: {player.value}')"
   ]
  },
  {
   "cell_type": "code",
   "execution_count": 146,
   "id": "b6056277-86db-49a1-b734-c875ff73b48d",
   "metadata": {},
   "outputs": [],
   "source": [
    "def player_busts(player,dealer,chips):\n",
    "    print('BUST PLAYER!')\n",
    "    chips.lose_bet()\n",
    "\n",
    "def player_wins(player,dealer,chips):\n",
    "    print('PLAYER WINS!')\n",
    "    chips.win_bet()\n",
    "\n",
    "def dealer_busts(player,dealer,chips):\n",
    "    print('PLAYER WINS! DEALER BUSTED')\n",
    "    chips.win_bet()\n",
    "    \n",
    "def dealer_wins(player,dealer,chips):\n",
    "    print('DEALER WINS!')\n",
    "    chips.win_bet()\n",
    "    \n",
    "def push():\n",
    "    print('Dealer and player tie! PUSH!')"
   ]
  },
  {
   "cell_type": "code",
   "execution_count": 150,
   "id": "e85c6310-9a72-4732-8126-fe37d79c09c9",
   "metadata": {},
   "outputs": [
    {
     "name": "stdout",
     "output_type": "stream",
     "text": [
      "Welcome to BlackJack! Get as close to 21 as you can without going over!\n",
      "    Dealer hits until she reaches 17. Aces count as 1 or 11.\n"
     ]
    },
    {
     "name": "stdin",
     "output_type": "stream",
     "text": [
      "How many chips would you like to bet?  40\n"
     ]
    },
    {
     "name": "stdout",
     "output_type": "stream",
     "text": [
      "\n",
      " Dealers hand: \n",
      "First card hidden\n",
      "Seven of Hearts\n",
      "\n",
      " Players hand: \n",
      "Five of Clubs\n",
      "Ace of Clubs\n"
     ]
    },
    {
     "name": "stdin",
     "output_type": "stream",
     "text": [
      "Would you like to Hit or Stand? Enter 'h' or 's'  s\n"
     ]
    },
    {
     "name": "stdout",
     "output_type": "stream",
     "text": [
      "Player stands. Dealer is playing.\n",
      "\n",
      " Dealers hand: \n",
      "First card hidden\n",
      "Seven of Hearts\n",
      "\n",
      " Players hand: \n",
      "Five of Clubs\n",
      "Ace of Clubs\n",
      "\n",
      " Dealers hand: \n",
      "Jack of Diamonds\n",
      "Seven of Hearts\n",
      "Value of Dealers hand is: 17\n",
      "\n",
      " Players hand: \n",
      "Five of Clubs\n",
      "Ace of Clubs\n",
      "Value of Players hand is: 16\n",
      "DEALER WINS!\n",
      "\n",
      "Player's winnings stand at 100\n"
     ]
    },
    {
     "name": "stdin",
     "output_type": "stream",
     "text": [
      "Would you like to play another hand? Enter 'y' or 'n'  y\n"
     ]
    },
    {
     "name": "stdout",
     "output_type": "stream",
     "text": [
      "Welcome to BlackJack! Get as close to 21 as you can without going over!\n",
      "    Dealer hits until she reaches 17. Aces count as 1 or 11.\n"
     ]
    },
    {
     "name": "stdin",
     "output_type": "stream",
     "text": [
      "How many chips would you like to bet?  30\n"
     ]
    },
    {
     "name": "stdout",
     "output_type": "stream",
     "text": [
      "\n",
      " Dealers hand: \n",
      "First card hidden\n",
      "Five of Spades\n",
      "\n",
      " Players hand: \n",
      "Four of Spades\n",
      "Nine of Diamonds\n"
     ]
    },
    {
     "name": "stdin",
     "output_type": "stream",
     "text": [
      "Would you like to Hit or Stand? Enter 'h' or 's'  h\n"
     ]
    },
    {
     "name": "stdout",
     "output_type": "stream",
     "text": [
      "\n",
      " Dealers hand: \n",
      "First card hidden\n",
      "Five of Spades\n",
      "\n",
      " Players hand: \n",
      "Four of Spades\n",
      "Nine of Diamonds\n",
      "Ten of Clubs\n",
      "BUST PLAYER!\n",
      "\n",
      "Player's winnings stand at 100\n"
     ]
    },
    {
     "name": "stdin",
     "output_type": "stream",
     "text": [
      "Would you like to play another hand? Enter 'y' or 'n'  y\n"
     ]
    },
    {
     "name": "stdout",
     "output_type": "stream",
     "text": [
      "Welcome to BlackJack! Get as close to 21 as you can without going over!\n",
      "    Dealer hits until she reaches 17. Aces count as 1 or 11.\n"
     ]
    },
    {
     "name": "stdin",
     "output_type": "stream",
     "text": [
      "How many chips would you like to bet?  20\n"
     ]
    },
    {
     "name": "stdout",
     "output_type": "stream",
     "text": [
      "\n",
      " Dealers hand: \n",
      "First card hidden\n",
      "Two of Diamonds\n",
      "\n",
      " Players hand: \n",
      "Queen of Hearts\n",
      "Three of Spades\n"
     ]
    },
    {
     "name": "stdin",
     "output_type": "stream",
     "text": [
      "Would you like to Hit or Stand? Enter 'h' or 's'  h\n"
     ]
    },
    {
     "name": "stdout",
     "output_type": "stream",
     "text": [
      "\n",
      " Dealers hand: \n",
      "First card hidden\n",
      "Two of Diamonds\n",
      "\n",
      " Players hand: \n",
      "Queen of Hearts\n",
      "Three of Spades\n",
      "Eight of Diamonds\n"
     ]
    },
    {
     "name": "stdin",
     "output_type": "stream",
     "text": [
      "Would you like to Hit or Stand? Enter 'h' or 's'  s\n"
     ]
    },
    {
     "name": "stdout",
     "output_type": "stream",
     "text": [
      "Player stands. Dealer is playing.\n",
      "\n",
      " Dealers hand: \n",
      "First card hidden\n",
      "Two of Diamonds\n",
      "\n",
      " Players hand: \n",
      "Queen of Hearts\n",
      "Three of Spades\n",
      "Eight of Diamonds\n",
      "\n",
      " Dealers hand: \n",
      "Nine of Spades\n",
      "Two of Diamonds\n",
      "Four of Diamonds\n",
      "Queen of Spades\n",
      "Value of Dealers hand is: 25\n",
      "\n",
      " Players hand: \n",
      "Queen of Hearts\n",
      "Three of Spades\n",
      "Eight of Diamonds\n",
      "Value of Players hand is: 21\n",
      "PLAYER WINS! DEALER BUSTED\n",
      "\n",
      "Player's winnings stand at 100\n"
     ]
    },
    {
     "name": "stdin",
     "output_type": "stream",
     "text": [
      "Would you like to play another hand? Enter 'y' or 'n'  n\n"
     ]
    },
    {
     "name": "stdout",
     "output_type": "stream",
     "text": [
      "Thanks for playing!\n"
     ]
    }
   ],
   "source": [
    "while True:\n",
    "    # Print an opening statement\n",
    "    print('Welcome to BlackJack! Get as close to 21 as you can without going over!\\n\\\n",
    "    Dealer hits until she reaches 17. Aces count as 1 or 11.')\n",
    "    \n",
    "    # Create & shuffle the deck, deal two cards to each player\n",
    "    deck = Deck()\n",
    "    deck.shuffle()\n",
    "    \n",
    "    player_hand = Hand()\n",
    "    player_hand.add_card(deck.deal())\n",
    "    player_hand.add_card(deck.deal())\n",
    "    \n",
    "    dealer_hand = Hand()\n",
    "    dealer_hand.add_card(deck.deal())\n",
    "    dealer_hand.add_card(deck.deal())\n",
    "            \n",
    "    # Set up the Player's chips\n",
    "    player_chips = Chips()  # remember the default value is 100    \n",
    "    \n",
    "    # Prompt the Player for their bet\n",
    "    take_bet(player_chips)\n",
    "    \n",
    "    # Show cards (but keep one dealer card hidden)\n",
    "    show_some(player_hand,dealer_hand)\n",
    "    \n",
    "    while playing:  # recall this variable from our hit_or_stand function\n",
    "        \n",
    "        # Prompt for Player to Hit or Stand\n",
    "        hit_or_stand(deck,player_hand) \n",
    "        \n",
    "        # Show cards (but keep one dealer card hidden)\n",
    "        show_some(player_hand,dealer_hand)  \n",
    "        \n",
    "        # If player's hand exceeds 21, run player_busts() and break out of loop\n",
    "        if player_hand.value > 21:\n",
    "            player_busts(player_hand,dealer_hand,player_chips)\n",
    "            break        \n",
    "\n",
    "\n",
    "    # If Player hasn't busted, play Dealer's hand until Dealer reaches 17 \n",
    "    if player_hand.value <= 21:\n",
    "        \n",
    "        while dealer_hand.value < 17:\n",
    "            hit(deck,dealer_hand)    \n",
    "    \n",
    "        # Show all cards\n",
    "        show_all(player_hand,dealer_hand)\n",
    "        \n",
    "        # Run different winning scenarios\n",
    "        if dealer_hand.value > 21:\n",
    "            dealer_busts(player_hand,dealer_hand,player_chips)\n",
    "\n",
    "        elif dealer_hand.value > player_hand.value:\n",
    "            dealer_wins(player_hand,dealer_hand,player_chips)\n",
    "\n",
    "        elif dealer_hand.value < player_hand.value:\n",
    "            player_wins(player_hand,dealer_hand,player_chips)\n",
    "\n",
    "        else:\n",
    "            push(player_hand,dealer_hand)        \n",
    "    \n",
    "    # Inform Player of their chips total \n",
    "    print(\"\\nPlayer's winnings stand at\",player_chips.total)\n",
    "    \n",
    "    # Ask to play again\n",
    "    new_game = input(\"Would you like to play another hand? Enter 'y' or 'n' \")\n",
    "    \n",
    "    if new_game[0].lower()=='y':\n",
    "        playing=True\n",
    "        continue\n",
    "    else:\n",
    "        print(\"Thanks for playing!\")\n",
    "        break"
   ]
  },
  {
   "cell_type": "code",
   "execution_count": null,
   "id": "1ba02c7d-eae4-42cc-9fbd-c45bf1254ec4",
   "metadata": {},
   "outputs": [],
   "source": []
  }
 ],
 "metadata": {
  "kernelspec": {
   "display_name": "Python 3 (ipykernel)",
   "language": "python",
   "name": "python3"
  },
  "language_info": {
   "codemirror_mode": {
    "name": "ipython",
    "version": 3
   },
   "file_extension": ".py",
   "mimetype": "text/x-python",
   "name": "python",
   "nbconvert_exporter": "python",
   "pygments_lexer": "ipython3",
   "version": "3.12.4"
  }
 },
 "nbformat": 4,
 "nbformat_minor": 5
}
